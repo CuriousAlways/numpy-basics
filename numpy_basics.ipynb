{
 "cells": [
  {
   "cell_type": "markdown",
   "metadata": {},
   "source": [
    "# Numpy\n",
    "NumPy is the fundamental package for scientific computing in Python. It provides numerous methods for performing \n",
    "mathematical operations on array. Operations on numpy arrays are faster compared to python list."
   ]
  },
  {
   "cell_type": "markdown",
   "metadata": {},
   "source": [
    "## Data types in numpy\n",
    "- np.int8\n",
    "- np.int16\n",
    "- np.int32\n",
    "- np.int64\n",
    "- np.uint8\n",
    "- np.uint16\n",
    "- np.uint32\n",
    "- np.uint64\n",
    "- np.intp\n",
    "- np.uintp\n",
    "- np.float32\n",
    "- np.float64\n",
    "- np.complex64\n",
    "- np.complex128"
   ]
  },
  {
   "cell_type": "code",
   "execution_count": 1,
   "metadata": {},
   "outputs": [],
   "source": [
    "import numpy as np\n",
    "import time"
   ]
  },
  {
   "cell_type": "code",
   "execution_count": 2,
   "metadata": {},
   "outputs": [
    {
     "name": "stdout",
     "output_type": "stream",
     "text": [
      "a = [1, 2, 3, 4, 5, 6, 7, 8, 9, 10]\n",
      "b = [2, 4, 6, 8, 10, 12, 14, 16, 18, 20]\n",
      "time = 131.06107711791992ms\n",
      "c = [ 1  2  3  4  5  6  7  8  9 10]\n",
      "d = [ 2  4  6  8 10 12 14 16 18 20]\n",
      "time = 2.404928207397461ms\n"
     ]
    }
   ],
   "source": [
    "a = [i for i in range(1,1000000)] #list with 1M element\n",
    "t1 = time.time()\n",
    "b = []\n",
    "for v in a:\n",
    "    b.append(2*v)\n",
    "t2 = time.time()\n",
    "print(f'a = {a[:10]}')\n",
    "print(f'b = {b[:10]}')\n",
    "print(f'time = {(t2-t1)*1000}ms')\n",
    "\n",
    "c = np.array(a)\n",
    "t3 = time.time()\n",
    "d = c*2\n",
    "t4 = time.time()\n",
    "print(f'c = {c[:10]}')\n",
    "print(f'd = {d[:10]}')\n",
    "print(f'time = {(t4-t3)*1000}ms')"
   ]
  },
  {
   "cell_type": "markdown",
   "metadata": {},
   "source": [
    "## Array creation\n",
    "commonly used method for array creation\n",
    "- np.array\n",
    "- np.zeros\n",
    "- np.ones\n",
    "- np.eye\n",
    "- np.random.randint\n",
    "- np.arange\n",
    "- np.linspace\n",
    "- np.full"
   ]
  },
  {
   "cell_type": "code",
   "execution_count": 4,
   "metadata": {},
   "outputs": [
    {
     "data": {
      "text/plain": [
       "array([[1, 2, 3],\n",
       "       [4, 5, 6]])"
      ]
     },
     "execution_count": 4,
     "metadata": {},
     "output_type": "execute_result"
    }
   ],
   "source": [
    "#np.array\n",
    "a = np.array([[1,2,3],[4,5,6]])\n",
    "a"
   ]
  },
  {
   "cell_type": "code",
   "execution_count": 5,
   "metadata": {},
   "outputs": [
    {
     "data": {
      "text/plain": [
       "array([[0., 0., 0., 0., 0.],\n",
       "       [0., 0., 0., 0., 0.],\n",
       "       [0., 0., 0., 0., 0.]])"
      ]
     },
     "execution_count": 5,
     "metadata": {},
     "output_type": "execute_result"
    }
   ],
   "source": [
    "np.zeros((3,5))"
   ]
  },
  {
   "cell_type": "code",
   "execution_count": 7,
   "metadata": {},
   "outputs": [
    {
     "data": {
      "text/plain": [
       "array([[1, 1],\n",
       "       [1, 1],\n",
       "       [1, 1],\n",
       "       [1, 1],\n",
       "       [1, 1]], dtype=int8)"
      ]
     },
     "execution_count": 7,
     "metadata": {},
     "output_type": "execute_result"
    }
   ],
   "source": [
    "np.ones((5,2),dtype='int8')"
   ]
  },
  {
   "cell_type": "code",
   "execution_count": 9,
   "metadata": {},
   "outputs": [
    {
     "data": {
      "text/plain": [
       "array([[1., 0., 0., 0.],\n",
       "       [0., 1., 0., 0.],\n",
       "       [0., 0., 1., 0.],\n",
       "       [0., 0., 0., 1.],\n",
       "       [0., 0., 0., 0.]])"
      ]
     },
     "execution_count": 9,
     "metadata": {},
     "output_type": "execute_result"
    }
   ],
   "source": [
    "np.eye(5,4)"
   ]
  },
  {
   "cell_type": "code",
   "execution_count": 12,
   "metadata": {},
   "outputs": [
    {
     "data": {
      "text/plain": [
       "array([[2, 1, 1],\n",
       "       [2, 2, 2],\n",
       "       [1, 1, 2],\n",
       "       [1, 1, 2],\n",
       "       [2, 1, 2]])"
      ]
     },
     "execution_count": 12,
     "metadata": {},
     "output_type": "execute_result"
    }
   ],
   "source": [
    "np.random.randint(low=1,high=3,size=(5,3))"
   ]
  },
  {
   "cell_type": "code",
   "execution_count": 11,
   "metadata": {},
   "outputs": [
    {
     "data": {
      "text/plain": [
       "array([1, 3, 5, 7, 9])"
      ]
     },
     "execution_count": 11,
     "metadata": {},
     "output_type": "execute_result"
    }
   ],
   "source": [
    "np.arange(start=1,stop=10,step=2)"
   ]
  },
  {
   "cell_type": "code",
   "execution_count": 13,
   "metadata": {},
   "outputs": [
    {
     "data": {
      "text/plain": [
       "array([ 2.        ,  2.88888889,  3.77777778,  4.66666667,  5.55555556,\n",
       "        6.44444444,  7.33333333,  8.22222222,  9.11111111, 10.        ])"
      ]
     },
     "execution_count": 13,
     "metadata": {},
     "output_type": "execute_result"
    }
   ],
   "source": [
    "np.linspace(2,10,10)"
   ]
  },
  {
   "cell_type": "code",
   "execution_count": 15,
   "metadata": {},
   "outputs": [
    {
     "data": {
      "text/plain": [
       "array([[5, 5, 5, 5, 5, 5, 5],\n",
       "       [5, 5, 5, 5, 5, 5, 5]])"
      ]
     },
     "execution_count": 15,
     "metadata": {},
     "output_type": "execute_result"
    }
   ],
   "source": [
    "np.full((2,7),5)"
   ]
  },
  {
   "cell_type": "markdown",
   "metadata": {},
   "source": [
    "## Inspecting arrays\n",
    "commonly used properties are : \n",
    "- ndarray.shape\n",
    "- ndarray.size\n",
    "- ndarray.dtype\n",
    "- ndarray.ndim"
   ]
  },
  {
   "cell_type": "code",
   "execution_count": 16,
   "metadata": {},
   "outputs": [],
   "source": [
    "a = np.random.randint(1,90,(5,9))"
   ]
  },
  {
   "cell_type": "code",
   "execution_count": 17,
   "metadata": {},
   "outputs": [
    {
     "data": {
      "text/plain": [
       "array([[28, 56, 78, 38, 10, 83, 23, 73, 79],\n",
       "       [60, 37, 87, 70, 57, 88, 18, 73, 43],\n",
       "       [18, 31, 14, 72, 73,  7, 47, 72, 87],\n",
       "       [38, 62, 66, 18, 54, 35, 24, 24, 53],\n",
       "       [44,  4, 57, 61, 65, 59, 31, 53, 60]])"
      ]
     },
     "execution_count": 17,
     "metadata": {},
     "output_type": "execute_result"
    }
   ],
   "source": [
    "a"
   ]
  },
  {
   "cell_type": "code",
   "execution_count": 18,
   "metadata": {},
   "outputs": [
    {
     "data": {
      "text/plain": [
       "(5, 9)"
      ]
     },
     "execution_count": 18,
     "metadata": {},
     "output_type": "execute_result"
    }
   ],
   "source": [
    "a.shape"
   ]
  },
  {
   "cell_type": "code",
   "execution_count": 20,
   "metadata": {},
   "outputs": [
    {
     "data": {
      "text/plain": [
       "45"
      ]
     },
     "execution_count": 20,
     "metadata": {},
     "output_type": "execute_result"
    }
   ],
   "source": [
    "a.size"
   ]
  },
  {
   "cell_type": "code",
   "execution_count": 21,
   "metadata": {},
   "outputs": [
    {
     "data": {
      "text/plain": [
       "dtype('int64')"
      ]
     },
     "execution_count": 21,
     "metadata": {},
     "output_type": "execute_result"
    }
   ],
   "source": [
    "a.dtype"
   ]
  },
  {
   "cell_type": "code",
   "execution_count": 22,
   "metadata": {},
   "outputs": [
    {
     "data": {
      "text/plain": [
       "2"
      ]
     },
     "execution_count": 22,
     "metadata": {},
     "output_type": "execute_result"
    }
   ],
   "source": [
    "a.ndim"
   ]
  },
  {
   "cell_type": "code",
   "execution_count": 31,
   "metadata": {},
   "outputs": [],
   "source": [
    "b = np.random.randint(1,100,(3,5,6))"
   ]
  },
  {
   "cell_type": "code",
   "execution_count": 32,
   "metadata": {},
   "outputs": [
    {
     "name": "stdout",
     "output_type": "stream",
     "text": [
      "shape : (3, 5, 6)\n",
      "size : 90\n",
      "type : int64\n",
      "no dimension : 3\n"
     ]
    }
   ],
   "source": [
    "print(f'shape : {b.shape}')\n",
    "print(f'size : {b.size}')\n",
    "print(f'type : {b.dtype}')\n",
    "print(f'no dimension : {b.ndim}')"
   ]
  },
  {
   "cell_type": "code",
   "execution_count": 27,
   "metadata": {},
   "outputs": [
    {
     "name": "stdout",
     "output_type": "stream",
     "text": [
      "Number of array dimensions.\n",
      "\n",
      "Examples\n",
      "--------\n",
      ">>> x = np.array([1, 2, 3])\n",
      ">>> x.ndim\n",
      "1\n",
      ">>> y = np.zeros((2, 3, 4))\n",
      ">>> y.ndim\n",
      "3\n"
     ]
    }
   ],
   "source": [
    "np.info(np.ndarray.ndim)"
   ]
  },
  {
   "cell_type": "code",
   "execution_count": null,
   "metadata": {},
   "outputs": [],
   "source": []
  },
  {
   "cell_type": "markdown",
   "metadata": {},
   "source": [
    "## Basic operations \n",
    "- copy\n",
    "- reshape\n",
    "- hstack\n",
    "- vstack\n",
    "- transpose\n"
   ]
  },
  {
   "cell_type": "code",
   "execution_count": 33,
   "metadata": {},
   "outputs": [
    {
     "data": {
      "text/plain": [
       "array([1, 2, 3])"
      ]
     },
     "execution_count": 33,
     "metadata": {},
     "output_type": "execute_result"
    }
   ],
   "source": [
    "a = np.array([1,2,3])\n",
    "a"
   ]
  },
  {
   "cell_type": "code",
   "execution_count": 34,
   "metadata": {},
   "outputs": [
    {
     "data": {
      "text/plain": [
       "array([1, 2, 3])"
      ]
     },
     "execution_count": 34,
     "metadata": {},
     "output_type": "execute_result"
    }
   ],
   "source": [
    "b = a \n",
    "b"
   ]
  },
  {
   "cell_type": "code",
   "execution_count": 35,
   "metadata": {},
   "outputs": [
    {
     "name": "stdout",
     "output_type": "stream",
     "text": [
      "[-1  2  3]\n",
      "[-1  2  3]\n"
     ]
    }
   ],
   "source": [
    "b[0]=-1\n",
    "print(a)\n",
    "print(b)"
   ]
  },
  {
   "cell_type": "code",
   "execution_count": 37,
   "metadata": {},
   "outputs": [
    {
     "name": "stdout",
     "output_type": "stream",
     "text": [
      "a = [5 6 6 7]\n",
      "c = [5 6 6 7]\n"
     ]
    }
   ],
   "source": [
    "a = np.array([5,6,6,7])\n",
    "c = a.copy()\n",
    "print(f'a = {a}')\n",
    "print(f'c = {c}')"
   ]
  },
  {
   "cell_type": "code",
   "execution_count": null,
   "metadata": {},
   "outputs": [],
   "source": []
  },
  {
   "cell_type": "code",
   "execution_count": null,
   "metadata": {},
   "outputs": [],
   "source": []
  },
  {
   "cell_type": "code",
   "execution_count": null,
   "metadata": {},
   "outputs": [],
   "source": []
  },
  {
   "cell_type": "code",
   "execution_count": 38,
   "metadata": {},
   "outputs": [
    {
     "name": "stdout",
     "output_type": "stream",
     "text": [
      "a = [5 6 6 7]\n",
      "c = [10  6  6  7]\n"
     ]
    }
   ],
   "source": [
    "c[0]=10\n",
    "print(f'a = {a}')\n",
    "print(f'c = {c}')"
   ]
  },
  {
   "cell_type": "code",
   "execution_count": null,
   "metadata": {},
   "outputs": [],
   "source": []
  },
  {
   "cell_type": "code",
   "execution_count": null,
   "metadata": {},
   "outputs": [],
   "source": []
  },
  {
   "cell_type": "code",
   "execution_count": null,
   "metadata": {},
   "outputs": [],
   "source": []
  },
  {
   "cell_type": "code",
   "execution_count": null,
   "metadata": {},
   "outputs": [],
   "source": []
  },
  {
   "cell_type": "markdown",
   "metadata": {},
   "source": [
    "### copy\n",
    "<img src='images/copy.png' width='250px' heigth='250px'>"
   ]
  },
  {
   "cell_type": "code",
   "execution_count": 39,
   "metadata": {},
   "outputs": [
    {
     "data": {
      "text/plain": [
       "array([[[71,  6],\n",
       "        [54, 19],\n",
       "        [15, 12]],\n",
       "\n",
       "       [[12, 35],\n",
       "        [13, 52],\n",
       "        [25, 92]],\n",
       "\n",
       "       [[45, 19],\n",
       "        [19, 22],\n",
       "        [80, 45]],\n",
       "\n",
       "       [[19, 81],\n",
       "        [25, 29],\n",
       "        [87, 85]],\n",
       "\n",
       "       [[76, 19],\n",
       "        [68, 15],\n",
       "        [41, 50]]])"
      ]
     },
     "execution_count": 39,
     "metadata": {},
     "output_type": "execute_result"
    }
   ],
   "source": [
    "#reshape\n",
    "a = np.random.randint(1,100,(5,3,2))\n",
    "a"
   ]
  },
  {
   "cell_type": "code",
   "execution_count": 40,
   "metadata": {},
   "outputs": [
    {
     "data": {
      "text/plain": [
       "array([[71,  6, 54, 19, 15, 12, 12, 35, 13, 52, 25, 92, 45, 19, 19],\n",
       "       [22, 80, 45, 19, 81, 25, 29, 87, 85, 76, 19, 68, 15, 41, 50]])"
      ]
     },
     "execution_count": 40,
     "metadata": {},
     "output_type": "execute_result"
    }
   ],
   "source": [
    "a = a.reshape((2,15))\n",
    "a"
   ]
  },
  {
   "cell_type": "code",
   "execution_count": 43,
   "metadata": {},
   "outputs": [
    {
     "data": {
      "text/plain": [
       "array([[[ 0,  1,  2,  3,  4],\n",
       "        [ 5,  6,  7,  8,  9],\n",
       "        [10, 11, 12, 13, 14],\n",
       "        [15, 16, 17, 18, 19],\n",
       "        [20, 21, 22, 23, 24],\n",
       "        [25, 26, 27, 28, 29],\n",
       "        [30, 31, 32, 33, 34],\n",
       "        [35, 36, 37, 38, 39],\n",
       "        [40, 41, 42, 43, 44],\n",
       "        [45, 46, 47, 48, 49]],\n",
       "\n",
       "       [[50, 51, 52, 53, 54],\n",
       "        [55, 56, 57, 58, 59],\n",
       "        [60, 61, 62, 63, 64],\n",
       "        [65, 66, 67, 68, 69],\n",
       "        [70, 71, 72, 73, 74],\n",
       "        [75, 76, 77, 78, 79],\n",
       "        [80, 81, 82, 83, 84],\n",
       "        [85, 86, 87, 88, 89],\n",
       "        [90, 91, 92, 93, 94],\n",
       "        [95, 96, 97, 98, 99]]])"
      ]
     },
     "execution_count": 43,
     "metadata": {},
     "output_type": "execute_result"
    }
   ],
   "source": [
    "b = np.arange(0,100).reshape(2,10,5)\n",
    "b"
   ]
  },
  {
   "cell_type": "code",
   "execution_count": 44,
   "metadata": {
    "scrolled": true
   },
   "outputs": [
    {
     "data": {
      "text/plain": [
       "(2, 10, 5)"
      ]
     },
     "execution_count": 44,
     "metadata": {},
     "output_type": "execute_result"
    }
   ],
   "source": [
    "b.shape"
   ]
  },
  {
   "cell_type": "code",
   "execution_count": null,
   "metadata": {},
   "outputs": [],
   "source": []
  },
  {
   "cell_type": "code",
   "execution_count": 45,
   "metadata": {},
   "outputs": [
    {
     "data": {
      "text/plain": [
       "array([1, 2, 3, 4, 5, 6])"
      ]
     },
     "execution_count": 45,
     "metadata": {},
     "output_type": "execute_result"
    }
   ],
   "source": [
    "#hstack\n",
    "a = np.array([1,2,3])\n",
    "b = np.array([4,5,6])\n",
    "np.hstack((a,b))"
   ]
  },
  {
   "cell_type": "code",
   "execution_count": 46,
   "metadata": {},
   "outputs": [
    {
     "data": {
      "text/plain": [
       "array([[4, 5, 6],\n",
       "       [1, 2, 3]])"
      ]
     },
     "execution_count": 46,
     "metadata": {},
     "output_type": "execute_result"
    }
   ],
   "source": [
    "#vstack\n",
    "np.vstack((b,a))"
   ]
  },
  {
   "cell_type": "code",
   "execution_count": null,
   "metadata": {},
   "outputs": [],
   "source": []
  },
  {
   "cell_type": "code",
   "execution_count": null,
   "metadata": {},
   "outputs": [],
   "source": []
  },
  {
   "cell_type": "markdown",
   "metadata": {},
   "source": [
    "<img src='images/hstack.png' width='300px' height='300px'> <img src='images/vstack.png' width='300px' height='300px'>"
   ]
  },
  {
   "cell_type": "code",
   "execution_count": 47,
   "metadata": {},
   "outputs": [
    {
     "data": {
      "text/plain": [
       "array([[ 9, 39, 45],\n",
       "       [73, 99,  9],\n",
       "       [52,  3, 50],\n",
       "       [23, 41,  2]])"
      ]
     },
     "execution_count": 47,
     "metadata": {},
     "output_type": "execute_result"
    }
   ],
   "source": [
    "#transpose\n",
    "a = np.random.randint(1,100,(4,3))\n",
    "a"
   ]
  },
  {
   "cell_type": "code",
   "execution_count": 48,
   "metadata": {},
   "outputs": [
    {
     "data": {
      "text/plain": [
       "array([[ 9, 73, 52, 23],\n",
       "       [39, 99,  3, 41],\n",
       "       [45,  9, 50,  2]])"
      ]
     },
     "execution_count": 48,
     "metadata": {},
     "output_type": "execute_result"
    }
   ],
   "source": [
    "b = a.T\n",
    "b"
   ]
  },
  {
   "cell_type": "markdown",
   "metadata": {},
   "source": [
    "## Indexing\n",
    "- subsetting\n",
    "- slicing\n",
    "- fancy indexing\n",
    "- boolean indexing"
   ]
  },
  {
   "cell_type": "markdown",
   "metadata": {},
   "source": [
    "__0 indexed array__\n",
    "<img src='images/array.png' width='250px' height='50px'>"
   ]
  },
  {
   "cell_type": "code",
   "execution_count": 49,
   "metadata": {},
   "outputs": [
    {
     "data": {
      "text/plain": [
       "array([88, 19, 46, 74, 94])"
      ]
     },
     "execution_count": 49,
     "metadata": {},
     "output_type": "execute_result"
    }
   ],
   "source": [
    "a = np.array([88,19,46,74,94])\n",
    "a"
   ]
  },
  {
   "cell_type": "code",
   "execution_count": 51,
   "metadata": {},
   "outputs": [
    {
     "data": {
      "text/plain": [
       "19"
      ]
     },
     "execution_count": 51,
     "metadata": {},
     "output_type": "execute_result"
    }
   ],
   "source": [
    "a[1]"
   ]
  },
  {
   "cell_type": "markdown",
   "metadata": {},
   "source": [
    "__indexing__\n",
    "<img src='images/indexing.png' width='200px' height='200px'>"
   ]
  },
  {
   "cell_type": "code",
   "execution_count": 52,
   "metadata": {},
   "outputs": [
    {
     "data": {
      "text/plain": [
       "array([[17, 55, 94, 36, 79],\n",
       "       [14, 76, 16, 74, 38],\n",
       "       [54, 31, 10, 98, 69],\n",
       "       [89, 17,  6, 80, 12],\n",
       "       [75, 38, 64,  3, 74]])"
      ]
     },
     "execution_count": 52,
     "metadata": {},
     "output_type": "execute_result"
    }
   ],
   "source": [
    "a = np.random.randint(1,100,(5,5))\n",
    "a"
   ]
  },
  {
   "cell_type": "code",
   "execution_count": 55,
   "metadata": {},
   "outputs": [
    {
     "data": {
      "text/plain": [
       "98"
      ]
     },
     "execution_count": 55,
     "metadata": {},
     "output_type": "execute_result"
    }
   ],
   "source": [
    "a[2,3]"
   ]
  },
  {
   "cell_type": "code",
   "execution_count": 56,
   "metadata": {},
   "outputs": [
    {
     "data": {
      "text/plain": [
       "array([[94, 36, 79],\n",
       "       [16, 74, 38],\n",
       "       [10, 98, 69]])"
      ]
     },
     "execution_count": 56,
     "metadata": {},
     "output_type": "execute_result"
    }
   ],
   "source": [
    "a[0:3,2:]"
   ]
  },
  {
   "cell_type": "code",
   "execution_count": 57,
   "metadata": {},
   "outputs": [
    {
     "data": {
      "text/plain": [
       "array([[76, 16, 74],\n",
       "       [31, 10, 98]])"
      ]
     },
     "execution_count": 57,
     "metadata": {},
     "output_type": "execute_result"
    }
   ],
   "source": [
    "a[1:3,1:4]"
   ]
  },
  {
   "cell_type": "markdown",
   "metadata": {},
   "source": [
    "__slicing__\n",
    "<img src='images/slicing.png' width='200px' height='200px'>"
   ]
  },
  {
   "cell_type": "code",
   "execution_count": 59,
   "metadata": {},
   "outputs": [
    {
     "data": {
      "text/plain": [
       "array([[199,  25, 156, 128,  13, 126, 146, 178, 159],\n",
       "       [108,  55, 195, 180,  65,  77, 111,   7,  52],\n",
       "       [178, 189, 112,  91, 115,  25,   5, 140, 128],\n",
       "       [134,  75,  45, 152, 113,  73,  83,  41,  26],\n",
       "       [ 32,  99,  89,  73,  65,  45, 175, 164, 141],\n",
       "       [ 13,  73,  56, 109,  70, 141, 162, 101,  45],\n",
       "       [143, 168,  75,  21, 198,  58, 161, 188,  28]])"
      ]
     },
     "execution_count": 59,
     "metadata": {},
     "output_type": "execute_result"
    }
   ],
   "source": [
    "b = np.random.randint(1,200,(7,9))\n",
    "b"
   ]
  },
  {
   "cell_type": "code",
   "execution_count": 62,
   "metadata": {},
   "outputs": [
    {
     "data": {
      "text/plain": [
       "array([189, 109])"
      ]
     },
     "execution_count": 62,
     "metadata": {},
     "output_type": "execute_result"
    }
   ],
   "source": [
    "b[[2,5],[1,3]]"
   ]
  },
  {
   "cell_type": "code",
   "execution_count": 64,
   "metadata": {},
   "outputs": [
    {
     "data": {
      "text/plain": [
       "array([[False,  True, False, False,  True, False, False, False, False],\n",
       "       [False, False, False, False, False, False, False,  True, False],\n",
       "       [False, False, False, False, False,  True,  True, False, False],\n",
       "       [False, False,  True, False, False, False, False,  True,  True],\n",
       "       [ True, False, False, False, False,  True, False, False, False],\n",
       "       [ True, False, False, False, False, False, False, False,  True],\n",
       "       [False, False, False,  True, False, False, False, False,  True]])"
      ]
     },
     "execution_count": 64,
     "metadata": {},
     "output_type": "execute_result"
    }
   ],
   "source": [
    "c = b<50\n",
    "c"
   ]
  },
  {
   "cell_type": "code",
   "execution_count": 65,
   "metadata": {},
   "outputs": [
    {
     "data": {
      "text/plain": [
       "array([25, 13,  7, 25,  5, 45, 41, 26, 32, 45, 13, 45, 21, 28])"
      ]
     },
     "execution_count": 65,
     "metadata": {},
     "output_type": "execute_result"
    }
   ],
   "source": [
    "b[c]"
   ]
  },
  {
   "cell_type": "code",
   "execution_count": null,
   "metadata": {},
   "outputs": [],
   "source": []
  },
  {
   "cell_type": "markdown",
   "metadata": {},
   "source": [
    "## element-wise operation\n",
    "- +\n",
    "- -\n",
    "- *\n",
    "- %\n",
    "- \\>\n",
    "- <\n",
    "\n",
    "etc."
   ]
  },
  {
   "cell_type": "markdown",
   "metadata": {},
   "source": [
    "<img src='images/element-wise.png' width='400px' height='400px'>"
   ]
  },
  {
   "cell_type": "code",
   "execution_count": 70,
   "metadata": {},
   "outputs": [
    {
     "data": {
      "text/plain": [
       "array([[False, False, False],\n",
       "       [False, False, False]])"
      ]
     },
     "execution_count": 70,
     "metadata": {},
     "output_type": "execute_result"
    }
   ],
   "source": [
    "a = np.array([[1,2,3],[4,5,6]])\n",
    "b = np.array([[32,3,5],[4,56,6]])\n",
    "a>b"
   ]
  },
  {
   "cell_type": "markdown",
   "metadata": {},
   "source": [
    "## Broadcasting\n",
    "<img src='images/broadcasting.png' width='500px' height='400px'>"
   ]
  },
  {
   "cell_type": "code",
   "execution_count": 74,
   "metadata": {
    "scrolled": true
   },
   "outputs": [
    {
     "name": "stdout",
     "output_type": "stream",
     "text": [
      "[0 1 2 3]\n"
     ]
    },
    {
     "data": {
      "text/plain": [
       "array([1, 2, 3, 4])"
      ]
     },
     "execution_count": 74,
     "metadata": {},
     "output_type": "execute_result"
    }
   ],
   "source": [
    "a = np.arange(0,4)\n",
    "print(a)\n",
    "b = np.array([1])\n",
    "a+b"
   ]
  },
  {
   "cell_type": "code",
   "execution_count": null,
   "metadata": {},
   "outputs": [],
   "source": []
  },
  {
   "cell_type": "code",
   "execution_count": null,
   "metadata": {},
   "outputs": [],
   "source": []
  },
  {
   "cell_type": "markdown",
   "metadata": {},
   "source": [
    "## Basic math\n",
    "- np.power\n",
    "- np.exp\n",
    "- np.log\n",
    "- np.sin\n",
    "- np.cos\n",
    "- np.sum\n",
    "- np.min\n",
    "- np.max\n",
    "- np.median\n",
    "- np.std\n",
    "- np.sqrt\n",
    "\n",
    "so on...."
   ]
  },
  {
   "cell_type": "code",
   "execution_count": 75,
   "metadata": {},
   "outputs": [
    {
     "data": {
      "text/plain": [
       "array([1, 2, 3])"
      ]
     },
     "execution_count": 75,
     "metadata": {},
     "output_type": "execute_result"
    }
   ],
   "source": [
    "a = np.array([1,2,3])\n",
    "a"
   ]
  },
  {
   "cell_type": "code",
   "execution_count": 76,
   "metadata": {},
   "outputs": [
    {
     "data": {
      "text/plain": [
       "array([1, 4, 9])"
      ]
     },
     "execution_count": 76,
     "metadata": {},
     "output_type": "execute_result"
    }
   ],
   "source": [
    "np.power(a,2)"
   ]
  },
  {
   "cell_type": "code",
   "execution_count": 77,
   "metadata": {},
   "outputs": [
    {
     "data": {
      "text/plain": [
       "array([ 2.71828183,  7.3890561 , 20.08553692])"
      ]
     },
     "execution_count": 77,
     "metadata": {},
     "output_type": "execute_result"
    }
   ],
   "source": [
    "np.exp(a)#e^a[i]"
   ]
  },
  {
   "cell_type": "code",
   "execution_count": null,
   "metadata": {},
   "outputs": [],
   "source": []
  },
  {
   "cell_type": "code",
   "execution_count": null,
   "metadata": {},
   "outputs": [],
   "source": []
  },
  {
   "cell_type": "markdown",
   "metadata": {},
   "source": [
    "## Linear algebra\n",
    "- np.matmul"
   ]
  },
  {
   "cell_type": "code",
   "execution_count": null,
   "metadata": {},
   "outputs": [],
   "source": [
    "#a , b\n",
    "# a * b ->matrix multiplication\n",
    "# col(a)=row(b) "
   ]
  },
  {
   "cell_type": "code",
   "execution_count": 78,
   "metadata": {},
   "outputs": [
    {
     "name": "stdout",
     "output_type": "stream",
     "text": [
      "[[46 88]\n",
      " [63 18]\n",
      " [91 57]]\n",
      "[[85  1 24 91 49]\n",
      " [76 13 35 46 97]]\n"
     ]
    }
   ],
   "source": [
    "a = np.random.randint(1,100,(3,2))\n",
    "b = np.random.randint(1,100,(2,5))\n",
    "print(a)\n",
    "print(b)"
   ]
  },
  {
   "cell_type": "code",
   "execution_count": 79,
   "metadata": {},
   "outputs": [
    {
     "data": {
      "text/plain": [
       "array([[10598,  1190,  4184,  8234, 10790],\n",
       "       [ 6723,   297,  2142,  6561,  4833],\n",
       "       [12067,   832,  4179, 10903,  9988]])"
      ]
     },
     "execution_count": 79,
     "metadata": {},
     "output_type": "execute_result"
    }
   ],
   "source": [
    "np.matmul(a,b)"
   ]
  },
  {
   "cell_type": "code",
   "execution_count": 80,
   "metadata": {},
   "outputs": [
    {
     "name": "stdout",
     "output_type": "stream",
     "text": [
      "matmul(x1, x2, /, out=None, *, casting='same_kind', order='K', dtype=None, subok=True[, signature, extobj])\n",
      "\n",
      "Matrix product of two arrays.\n",
      "\n",
      "Parameters\n",
      "----------\n",
      "x1, x2 : array_like\n",
      "    Input arrays, scalars not allowed.\n",
      "out : ndarray, optional\n",
      "    A location into which the result is stored. If provided, it must have\n",
      "    a shape that matches the signature `(n,k),(k,m)->(n,m)`. If not\n",
      "    provided or None, a freshly-allocated array is returned.\n",
      "**kwargs\n",
      "    For other keyword-only arguments, see the\n",
      "    :ref:`ufunc docs <ufuncs.kwargs>`.\n",
      "\n",
      "    .. versionadded:: 1.16\n",
      "       Now handles ufunc kwargs\n",
      "\n",
      "Returns\n",
      "-------\n",
      "y : ndarray\n",
      "    The matrix product of the inputs.\n",
      "    This is a scalar only when both x1, x2 are 1-d vectors.\n",
      "\n",
      "Raises\n",
      "------\n",
      "ValueError\n",
      "    If the last dimension of `a` is not the same size as\n",
      "    the second-to-last dimension of `b`.\n",
      "\n",
      "    If a scalar value is passed in.\n",
      "\n",
      "See Also\n",
      "--------\n",
      "vdot : Complex-conjugating dot product.\n",
      "tensordot : Sum products over arbitrary axes.\n",
      "einsum : Einstein summation convention.\n",
      "dot : alternative matrix product with different broadcasting rules.\n",
      "\n",
      "Notes\n",
      "-----\n",
      "\n",
      "The behavior depends on the arguments in the following way.\n",
      "\n",
      "- If both arguments are 2-D they are multiplied like conventional\n",
      "  matrices.\n",
      "- If either argument is N-D, N > 2, it is treated as a stack of\n",
      "  matrices residing in the last two indexes and broadcast accordingly.\n",
      "- If the first argument is 1-D, it is promoted to a matrix by\n",
      "  prepending a 1 to its dimensions. After matrix multiplication\n",
      "  the prepended 1 is removed.\n",
      "- If the second argument is 1-D, it is promoted to a matrix by\n",
      "  appending a 1 to its dimensions. After matrix multiplication\n",
      "  the appended 1 is removed.\n",
      "\n",
      "``matmul`` differs from ``dot`` in two important ways:\n",
      "\n",
      "- Multiplication by scalars is not allowed, use ``*`` instead.\n",
      "- Stacks of matrices are broadcast together as if the matrices\n",
      "  were elements, respecting the signature ``(n,k),(k,m)->(n,m)``:\n",
      "\n",
      "  >>> a = np.ones([9, 5, 7, 4])\n",
      "  >>> c = np.ones([9, 5, 4, 3])\n",
      "  >>> np.dot(a, c).shape\n",
      "  (9, 5, 7, 9, 5, 3)\n",
      "  >>> np.matmul(a, c).shape\n",
      "  (9, 5, 7, 3)\n",
      "  >>> # n is 7, k is 4, m is 3\n",
      "\n",
      "The matmul function implements the semantics of the `@` operator introduced\n",
      "in Python 3.5 following PEP465.\n",
      "\n",
      "Examples\n",
      "--------\n",
      "For 2-D arrays it is the matrix product:\n",
      "\n",
      ">>> a = np.array([[1, 0],\n",
      "...               [0, 1]])\n",
      ">>> b = np.array([[4, 1],\n",
      "...               [2, 2]])\n",
      ">>> np.matmul(a, b)\n",
      "array([[4, 1],\n",
      "       [2, 2]])\n",
      "\n",
      "For 2-D mixed with 1-D, the result is the usual.\n",
      "\n",
      ">>> a = np.array([[1, 0],\n",
      "...               [0, 1]])\n",
      ">>> b = np.array([1, 2])\n",
      ">>> np.matmul(a, b)\n",
      "array([1, 2])\n",
      ">>> np.matmul(b, a)\n",
      "array([1, 2])\n",
      "\n",
      "\n",
      "Broadcasting is conventional for stacks of arrays\n",
      "\n",
      ">>> a = np.arange(2 * 2 * 4).reshape((2, 2, 4))\n",
      ">>> b = np.arange(2 * 2 * 4).reshape((2, 4, 2))\n",
      ">>> np.matmul(a,b).shape\n",
      "(2, 2, 2)\n",
      ">>> np.matmul(a, b)[0, 1, 1]\n",
      "98\n",
      ">>> sum(a[0, 1, :] * b[0 , :, 1])\n",
      "98\n",
      "\n",
      "Vector, vector returns the scalar inner product, but neither argument\n",
      "is complex-conjugated:\n",
      "\n",
      ">>> np.matmul([2j, 3j], [2j, 3j])\n",
      "(-13+0j)\n",
      "\n",
      "Scalar multiplication raises an error.\n",
      "\n",
      ">>> np.matmul([1,2], 3)\n",
      "Traceback (most recent call last):\n",
      "...\n",
      "ValueError: matmul: Input operand 1 does not have enough dimensions ...\n",
      "\n",
      ".. versionadded:: 1.10.0\n"
     ]
    }
   ],
   "source": [
    "np.info(np.matmul)"
   ]
  },
  {
   "cell_type": "markdown",
   "metadata": {},
   "source": [
    "\n",
    "## References\n",
    "1. [numpy docs](https://numpy.org/doc/1.19/)\n",
    "2. [numpy basics](https://www.sharpsightlabs.com/blog/numpy-array-python/)\n",
    "3. [Broadcasting](https://numpy.org/doc/stable/user/basics.broadcasting.html)\n",
    "4. [linear Algebra numpy](https://numpy.org/doc/stable/reference/routines.linalg.html)\n",
    "4. image sources\n",
    "    1. [broadcasting](https://scipy-lectures.org/intro/numpy/operations.html#broadcasting)\n",
    "    2. [indexing and slicing](https://www.sharpsightlabs.com/blog/numpy-array-python/)\n"
   ]
  }
 ],
 "metadata": {
  "kernelspec": {
   "display_name": "Python 3",
   "language": "python",
   "name": "python3"
  },
  "language_info": {
   "codemirror_mode": {
    "name": "ipython",
    "version": 3
   },
   "file_extension": ".py",
   "mimetype": "text/x-python",
   "name": "python",
   "nbconvert_exporter": "python",
   "pygments_lexer": "ipython3",
   "version": "3.7.4"
  }
 },
 "nbformat": 4,
 "nbformat_minor": 2
}
